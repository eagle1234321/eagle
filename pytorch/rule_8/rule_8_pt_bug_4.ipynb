{
  "cells": [
    {
      "cell_type": "markdown",
      "metadata": {
        "colab_type": "text",
        "id": "view-in-github"
      },
      "source": [
        "<a href=\"https://colab.research.google.com/github/lin-tan/eagle/blob/main/pytorch/rule_8/rule_8_pt_bug_4.ipynb\" target=\"_parent\"><img src=\"https://colab.research.google.com/assets/colab-badge.svg\" alt=\"Open In Colab\"/></a>"
      ]
    },
    {
      "cell_type": "code",
      "execution_count": 17,
      "metadata": {
        "colab": {
          "base_uri": "https://localhost:8080/"
        },
        "id": "yUVm9WDjH-2v",
        "outputId": "3e92fcfd-07f6-446a-e95a-209b96cdc7e3"
      },
      "outputs": [
        {
          "name": "stdout",
          "output_type": "stream",
          "text": [
            "Requirement already satisfied: torch==1.6.0 in /usr/local/lib/python3.7/dist-packages (1.6.0)\n",
            "Requirement already satisfied: torchvision==0.7.0 in /usr/local/lib/python3.7/dist-packages (0.7.0)\n",
            "Requirement already satisfied: numpy in /usr/local/lib/python3.7/dist-packages (from torch==1.6.0) (1.19.5)\n",
            "Requirement already satisfied: future in /usr/local/lib/python3.7/dist-packages (from torch==1.6.0) (0.16.0)\n",
            "Requirement already satisfied: pillow>=4.1.1 in /usr/local/lib/python3.7/dist-packages (from torchvision==0.7.0) (7.1.2)\n"
          ]
        }
      ],
      "source": [
        "pip install torch==1.6.0 torchvision==0.7.0"
      ]
    },
    {
      "cell_type": "code",
      "execution_count": 18,
      "metadata": {
        "colab": {
          "base_uri": "https://localhost:8080/"
        },
        "id": "376sOczdICMY",
        "outputId": "df0ba2a3-9f53-425d-ba18-ff589a030347"
      },
      "outputs": [
        {
          "name": "stdout",
          "output_type": "stream",
          "text": [
            "[[-12.727133     2.5744476   -7.1618047  ...   6.247948     1.5422261\n",
            "   -0.16891545]\n",
            " [ -2.1023605  -10.742928   -10.165269   ...   8.963045    -2.1136827\n",
            "   -9.747416  ]\n",
            " [ -6.524388    -2.9487238    8.34979    ...  12.490925    -1.6746202\n",
            "  -11.006976  ]\n",
            " ...\n",
            " [ -2.192896    -1.379703    14.608461   ...   4.006759     2.3162785\n",
            "    8.215739  ]\n",
            " [ -6.841821    12.437543   -15.868043   ...   0.42351848  -7.780045\n",
            "   -6.2779284 ]\n",
            " [ -8.197433     8.722505    -9.75982    ...   6.4789963   -7.3582053\n",
            "   -1.9615133 ]]\n",
            "[[-66.07265    -36.98092    -46.348507   ...  34.477535    19.102295\n",
            "   -3.3864713 ]\n",
            " [  0.84517395   1.1611115    0.8399768  ...  -0.2472537   -1.5024837\n",
            "    0.15976115]\n",
            " [  1.0817373    2.5220528    1.7896426  ...   3.0740645   -0.7296326\n",
            "    3.6595204 ]\n",
            " ...\n",
            " [  0.           0.           0.         ...   0.           0.\n",
            "    0.        ]\n",
            " [  0.           0.           0.         ...   0.           0.\n",
            "    0.        ]\n",
            " [  0.           0.           0.         ...   0.           0.\n",
            "    0.        ]]\n"
          ]
        }
      ],
      "source": [
        "# The following code will cause crash\n",
        "\n",
        "import torch\n",
        "import numpy as np\n",
        "import pickle\n",
        "\n",
        "with open(\"./input_smm\", \"rb\") as f:\n",
        "  input = pickle.load(f)\n",
        "\n",
        "# print(input)\n",
        "i1 = input[\"input\"]\n",
        "i2 = input[\"mat2\"]\n",
        "\n",
        "\n",
        "\n",
        "output_1 = torch.mm(i1, i2)\n",
        "output_1_np = output_1.cpu().detach().numpy()\n",
        "print(output_1_np)\n",
        "\n",
        "\n",
        "i1_s = i1.to_sparse()\n",
        "\n",
        "output_2 = torch.smm(i1_s, i2) # this causes crash on our server\n",
        "output_2 = output_2.to_dense()\n",
        "output_2_np = output_2.cpu().detach().numpy()\n",
        "print(output_2_np)\n",
        "print(\"if output_1_np equals output_2_np: \", np.allclose(output_1_np, output_2_np, rtol=1e-05, atol=1e-02))"
      ]
    }
  ],
  "metadata": {
    "colab": {
      "authorship_tag": "ABX9TyOR98DQPQ5UjwYlbG7UNwKe",
      "include_colab_link": true,
      "name": "rule_8_pt_bug_4.ipynb",
      "provenance": []
    },
    "kernelspec": {
      "display_name": "Python 3.8.2 64-bit",
      "language": "python",
      "name": "python3"
    },
    "language_info": {
      "name": "python",
      "version": "3.8.2"
    },
    "vscode": {
      "interpreter": {
        "hash": "916dbcbb3f70747c44a77c7bcd40155683ae19c65e1c03b4aa3499c5328201f1"
      }
    }
  },
  "nbformat": 4,
  "nbformat_minor": 0
}
