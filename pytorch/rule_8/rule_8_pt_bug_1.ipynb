{
  "cells": [
    {
      "cell_type": "markdown",
      "metadata": {
        "id": "view-in-github",
        "colab_type": "text"
      },
      "source": [
        "<a href=\"https://colab.research.google.com/github/lin-tan/eagle/blob/main/pytorch/rule_8/rule_8_pt_bug_1.ipynb\" target=\"_parent\"><img src=\"https://colab.research.google.com/assets/colab-badge.svg\" alt=\"Open In Colab\"/></a>"
      ]
    },
    {
      "cell_type": "code",
      "execution_count": 1,
      "metadata": {
        "colab": {
          "base_uri": "https://localhost:8080/"
        },
        "id": "2Zd72kj6-AzW",
        "outputId": "87920141-ac40-49e6-93d3-610c8d6153a4"
      },
      "outputs": [
        {
          "output_type": "stream",
          "name": "stdout",
          "text": [
            "Looking in indexes: https://pypi.org/simple, https://us-python.pkg.dev/colab-wheels/public/simple/\n",
            "Collecting torch==1.6.0\n",
            "  Downloading torch-1.6.0-cp38-cp38-manylinux1_x86_64.whl (748.8 MB)\n",
            "\u001b[K     |████████████████████████████████| 748.8 MB 19 kB/s \n",
            "\u001b[?25hCollecting torchvision==0.7.0\n",
            "  Downloading torchvision-0.7.0-cp38-cp38-manylinux1_x86_64.whl (5.9 MB)\n",
            "\u001b[K     |████████████████████████████████| 5.9 MB 30.0 MB/s \n",
            "\u001b[?25hRequirement already satisfied: numpy in /usr/local/lib/python3.8/dist-packages (from torch==1.6.0) (1.21.6)\n",
            "Requirement already satisfied: future in /usr/local/lib/python3.8/dist-packages (from torch==1.6.0) (0.16.0)\n",
            "Requirement already satisfied: pillow>=4.1.1 in /usr/local/lib/python3.8/dist-packages (from torchvision==0.7.0) (7.1.2)\n",
            "Installing collected packages: torch, torchvision\n",
            "  Attempting uninstall: torch\n",
            "    Found existing installation: torch 1.13.0+cu116\n",
            "    Uninstalling torch-1.13.0+cu116:\n",
            "      Successfully uninstalled torch-1.13.0+cu116\n",
            "  Attempting uninstall: torchvision\n",
            "    Found existing installation: torchvision 0.14.0+cu116\n",
            "    Uninstalling torchvision-0.14.0+cu116:\n",
            "      Successfully uninstalled torchvision-0.14.0+cu116\n",
            "\u001b[31mERROR: pip's dependency resolver does not currently take into account all the packages that are installed. This behaviour is the source of the following dependency conflicts.\n",
            "torchtext 0.14.0 requires torch==1.13.0, but you have torch 1.6.0 which is incompatible.\n",
            "torchaudio 0.13.0+cu116 requires torch==1.13.0, but you have torch 1.6.0 which is incompatible.\n",
            "fastai 2.7.10 requires torch<1.14,>=1.7, but you have torch 1.6.0 which is incompatible.\n",
            "fastai 2.7.10 requires torchvision>=0.8.2, but you have torchvision 0.7.0 which is incompatible.\u001b[0m\n",
            "Successfully installed torch-1.6.0 torchvision-0.7.0\n"
          ]
        }
      ],
      "source": [
        "pip install torch==1.6.0 torchvision==0.7.0"
      ]
    },
    {
      "cell_type": "code",
      "execution_count": 2,
      "metadata": {
        "colab": {
          "base_uri": "https://localhost:8080/"
        },
        "id": "3_jg1Q7D-U3q",
        "outputId": "b05313a2-6848-4a68-9ab2-9bda24fa617c"
      },
      "outputs": [
        {
          "output_type": "stream",
          "name": "stdout",
          "text": [
            "[[-0.40827733]\n",
            " [-1.9768558 ]]\n",
            "[[-0.04761183]\n",
            " [-2.3375213 ]]\n",
            "Does output_1_np equal output_2_np?  False\n"
          ]
        }
      ],
      "source": [
        "import torch\n",
        "import numpy as np\n",
        "\n",
        "i1 = torch.tensor([[-0.8196], [-1.4280]])\n",
        "i2 = torch.tensor([[0.1602, 0.2102], [0.3482, -0.7791]])\n",
        "i3 = torch.tensor([[1.0358], [1.1674]])\n",
        "\n",
        "output_1 = torch.addmm(i1, i2, i3)\n",
        "output_1_np = output_1.cpu().detach().numpy()\n",
        "print(output_1_np)\n",
        "\n",
        "i1_s = i1.to_sparse()\n",
        "i2_s = i2.to_sparse()\n",
        "\n",
        "output_2 = torch.sspaddmm(i1_s, i2_s, i3)\n",
        "output_2 = output_2.to_dense()\n",
        "output_2_np = output_2.cpu().detach().numpy()\n",
        "print(output_2_np)\n",
        "\n",
        "print(\"Does output_1_np equal output_2_np? \", np.allclose(output_1_np, output_2_np, rtol=1e-05, atol=1e-02))\n"
      ]
    }
  ],
  "metadata": {
    "colab": {
      "name": "rule_8_pt_bug_1.ipynb",
      "provenance": [],
      "include_colab_link": true
    },
    "kernelspec": {
      "display_name": "Python 3.8.2 64-bit",
      "language": "python",
      "name": "python3"
    },
    "language_info": {
      "name": "python",
      "version": "3.8.2"
    },
    "vscode": {
      "interpreter": {
        "hash": "916dbcbb3f70747c44a77c7bcd40155683ae19c65e1c03b4aa3499c5328201f1"
      }
    }
  },
  "nbformat": 4,
  "nbformat_minor": 0
}