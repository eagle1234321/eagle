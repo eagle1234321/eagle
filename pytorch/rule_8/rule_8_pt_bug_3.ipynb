{
  "cells": [
    {
      "cell_type": "markdown",
      "metadata": {
        "colab_type": "text",
        "id": "view-in-github"
      },
      "source": [
        "<a href=\"https://colab.research.google.com/github/lin-tan/eagle/blob/main/pytorch/rule_8/rule_8_pt_bug_3.ipynb\" target=\"_parent\"><img src=\"https://colab.research.google.com/assets/colab-badge.svg\" alt=\"Open In Colab\"/></a>"
      ]
    },
    {
      "cell_type": "code",
      "execution_count": 1,
      "metadata": {
        "colab": {
          "base_uri": "https://localhost:8080/"
        },
        "id": "FTLNZx12D8Ee",
        "outputId": "15de9baa-f7cf-41c4-de79-4111105e2a64"
      },
      "outputs": [
        {
          "name": "stdout",
          "output_type": "stream",
          "text": [
            "Requirement already satisfied: torch==1.6.0 in /usr/local/lib/python3.7/dist-packages (1.6.0)\n",
            "Requirement already satisfied: torchvision==0.7.0 in /usr/local/lib/python3.7/dist-packages (0.7.0)\n",
            "Requirement already satisfied: numpy in /usr/local/lib/python3.7/dist-packages (from torch==1.6.0) (1.19.5)\n",
            "Requirement already satisfied: future in /usr/local/lib/python3.7/dist-packages (from torch==1.6.0) (0.16.0)\n",
            "Requirement already satisfied: pillow>=4.1.1 in /usr/local/lib/python3.7/dist-packages (from torchvision==0.7.0) (7.1.2)\n"
          ]
        }
      ],
      "source": [
        "pip install torch==1.6.0 torchvision==0.7.0"
      ]
    },
    {
      "cell_type": "code",
      "execution_count": null,
      "metadata": {
        "id": "QjL8dyyLH5LX"
      },
      "outputs": [],
      "source": [
        "# The following code will cause crash\n",
        "\n",
        "import torch\n",
        "import numpy as np\n",
        "import pickle\n",
        "\n",
        "with open(\"./input_sspaddmm\", \"rb\") as f:\n",
        "  input = pickle.load(f)\n",
        "\n",
        "i1 = input['mat']\n",
        "i2 = input['mat1']\n",
        "i3 = input['mat2']\n",
        "a = input['beta']\n",
        "b = input['alpha']\n",
        "\n",
        "output_1 = torch.addmm(i1, i2, i3, beta=b, alpha=a)\n",
        "output_1_np = output_1.cpu().detach().numpy()\n",
        "print(output_1_np)\n",
        "i1_s = i1.to_sparse()\n",
        "i2_s = i2.to_sparse()\n",
        "\n",
        "# this code causes crash on our server\n",
        "output_2 = torch.sspaddmm(i1_s, i2_s, i3, beta=b, alpha=a)\n",
        "output_2_np = output_2.cpu().detach().numpy()\n",
        "print(output_2_np)\n",
        "\n",
        "# print(\"Does output_1_np equal output_2_np? \", np.allclose(output_1_np, output_2_np, rtol=1e-05, atol=1e-02))"
      ]
    }
  ],
  "metadata": {
    "colab": {
      "authorship_tag": "ABX9TyNUYa65h3kjfYPz5Rir2ZGs",
      "include_colab_link": true,
      "name": "rule_8_pt_bug_3.ipynb",
      "provenance": []
    },
    "kernelspec": {
      "display_name": "Python 3.8.2 64-bit",
      "language": "python",
      "name": "python3"
    },
    "language_info": {
      "name": "python",
      "version": "3.8.2"
    },
    "vscode": {
      "interpreter": {
        "hash": "916dbcbb3f70747c44a77c7bcd40155683ae19c65e1c03b4aa3499c5328201f1"
      }
    }
  },
  "nbformat": 4,
  "nbformat_minor": 0
}
