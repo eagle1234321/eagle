{
  "nbformat": 4,
  "nbformat_minor": 0,
  "metadata": {
    "colab": {
      "name": "rule_16_pt_bug_1.ipynb",
      "provenance": [],
      "authorship_tag": "ABX9TyMJ06tUvusximYntOpGI3Cf",
      "include_colab_link": true
    },
    "kernelspec": {
      "name": "python3",
      "display_name": "Python 3"
    },
    "language_info": {
      "name": "python"
    }
  },
  "cells": [
    {
      "cell_type": "markdown",
      "metadata": {
        "id": "view-in-github",
        "colab_type": "text"
      },
      "source": [
        "<a href=\"https://colab.research.google.com/github/eagle1234321/eagle/blob/main/pytorch/rule_16/rule_16_pt_bug_1.ipynb\" target=\"_parent\"><img src=\"https://colab.research.google.com/assets/colab-badge.svg\" alt=\"Open In Colab\"/></a>"
      ]
    },
    {
      "cell_type": "code",
      "metadata": {
        "colab": {
          "base_uri": "https://localhost:8080/"
        },
        "id": "irEdQpCB8A3j",
        "outputId": "8b7c92ea-3b02-4c37-f358-01014c83f9ce"
      },
      "source": [
        "pip install torch==1.6.0 torchvision==0.7.0"
      ],
      "execution_count": 1,
      "outputs": [
        {
          "output_type": "stream",
          "name": "stdout",
          "text": [
            "Collecting torch==1.6.0\n",
            "  Downloading torch-1.6.0-cp37-cp37m-manylinux1_x86_64.whl (748.8 MB)\n",
            "\u001b[K     |████████████████████████████████| 748.8 MB 18 kB/s \n",
            "\u001b[?25hCollecting torchvision==0.7.0\n",
            "  Downloading torchvision-0.7.0-cp37-cp37m-manylinux1_x86_64.whl (5.9 MB)\n",
            "\u001b[K     |████████████████████████████████| 5.9 MB 25.1 MB/s \n",
            "\u001b[?25hRequirement already satisfied: numpy in /usr/local/lib/python3.7/dist-packages (from torch==1.6.0) (1.19.5)\n",
            "Requirement already satisfied: future in /usr/local/lib/python3.7/dist-packages (from torch==1.6.0) (0.16.0)\n",
            "Requirement already satisfied: pillow>=4.1.1 in /usr/local/lib/python3.7/dist-packages (from torchvision==0.7.0) (7.1.2)\n",
            "Installing collected packages: torch, torchvision\n",
            "  Attempting uninstall: torch\n",
            "    Found existing installation: torch 1.9.0+cu102\n",
            "    Uninstalling torch-1.9.0+cu102:\n",
            "      Successfully uninstalled torch-1.9.0+cu102\n",
            "  Attempting uninstall: torchvision\n",
            "    Found existing installation: torchvision 0.10.0+cu102\n",
            "    Uninstalling torchvision-0.10.0+cu102:\n",
            "      Successfully uninstalled torchvision-0.10.0+cu102\n",
            "\u001b[31mERROR: pip's dependency resolver does not currently take into account all the packages that are installed. This behaviour is the source of the following dependency conflicts.\n",
            "torchtext 0.10.0 requires torch==1.9.0, but you have torch 1.6.0 which is incompatible.\u001b[0m\n",
            "Successfully installed torch-1.6.0 torchvision-0.7.0\n"
          ]
        }
      ]
    },
    {
      "cell_type": "code",
      "metadata": {
        "colab": {
          "base_uri": "https://localhost:8080/"
        },
        "id": "Ok5283hR8My9",
        "outputId": "30156a5e-cb91-4565-cee4-20f691eac7d1"
      },
      "source": [
        "import torch\n",
        "import torchvision\n",
        "import pickle\n",
        "import random\n",
        "import numpy as np\n",
        "\n",
        "input = pickle.load(open(\"./inputs\", \"rb\"))\n",
        "test_x = torch.tensor(input).to(torch.float)\n",
        "model_save_path = \"tmp_model\"\n",
        "\n",
        "model_class = torchvision.models.inception_v3\n",
        "\n",
        "seed = 0\n",
        "model = model_class(pretrained=True)\n",
        "model.eval()\n",
        "\n",
        "torch.manual_seed(seed)\n",
        "random.seed(seed)\n",
        "np.random.seed(seed)\n",
        "\n",
        "output_1 = model(test_x)\n",
        "\n",
        "output_1_np = output_1.cpu().detach().numpy()\n",
        "\n",
        "torch.save(model.state_dict(), model_save_path)\n",
        "reconstructed_model = model_class()\n",
        "reconstructed_model.load_state_dict(torch.load(model_save_path))\n",
        "reconstructed_model.eval()\n",
        "\n",
        "torch.manual_seed(seed)\n",
        "random.seed(seed)\n",
        "np.random.seed(seed)\n",
        "\n",
        "output_2 = reconstructed_model(test_x)\n",
        "\n",
        "output_2_np = output_2.cpu().detach().numpy()\n",
        "\n",
        "print(np.allclose(output_1_np, output_2_np))\n",
        "print(np.max(np.abs(output_1_np - output_2_np)))\n"
      ],
      "execution_count": 6,
      "outputs": [
        {
          "output_type": "stream",
          "name": "stderr",
          "text": [
            "/usr/local/lib/python3.7/dist-packages/torchvision/models/inception.py:77: FutureWarning: The default weight initialization of inception_v3 will be changed in future releases of torchvision. If you wish to keep the old behavior (which leads to long initialization times due to scipy/scipy#11299), please set init_weights=True.\n",
            "  ' due to scipy/scipy#11299), please set init_weights=True.', FutureWarning)\n"
          ]
        },
        {
          "output_type": "stream",
          "name": "stdout",
          "text": [
            "False\n",
            "4.0621123\n"
          ]
        }
      ]
    }
  ]
}