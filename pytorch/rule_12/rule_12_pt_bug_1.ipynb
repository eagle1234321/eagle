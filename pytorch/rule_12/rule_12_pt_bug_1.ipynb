{
  "cells": [
    {
      "cell_type": "markdown",
      "metadata": {
        "colab_type": "text",
        "id": "view-in-github"
      },
      "source": [
        "<a href=\"https://colab.research.google.com/github/lin-tan/eagle/blob/main/pytorch/rule_12/rule_12_pt_bug_1.ipynb\" target=\"_parent\"><img src=\"https://colab.research.google.com/assets/colab-badge.svg\" alt=\"Open In Colab\"/></a>"
      ]
    },
    {
      "cell_type": "code",
      "execution_count": 3,
      "metadata": {
        "colab": {
          "base_uri": "https://localhost:8080/"
        },
        "id": "jQZQUX4K5EbW",
        "outputId": "5a4c4f72-5020-433c-9c0c-3f33d8b08a5d"
      },
      "outputs": [
        {
          "name": "stdout",
          "output_type": "stream",
          "text": [
            "Looking in indexes: https://pypi.org/simple, https://us-python.pkg.dev/colab-wheels/public/simple/\n",
            "Requirement already satisfied: torch==1.6.0 in /usr/local/lib/python3.7/dist-packages (1.6.0)\n",
            "Requirement already satisfied: torchvision==0.7.0 in /usr/local/lib/python3.7/dist-packages (0.7.0)\n",
            "Requirement already satisfied: future in /usr/local/lib/python3.7/dist-packages (from torch==1.6.0) (0.16.0)\n",
            "Requirement already satisfied: numpy in /usr/local/lib/python3.7/dist-packages (from torch==1.6.0) (1.21.6)\n",
            "Requirement already satisfied: pillow>=4.1.1 in /usr/local/lib/python3.7/dist-packages (from torchvision==0.7.0) (7.1.2)\n"
          ]
        }
      ],
      "source": [
        "pip install torch==1.6.0 torchvision==0.7.0"
      ]
    },
    {
      "cell_type": "code",
      "execution_count": 4,
      "metadata": {
        "colab": {
          "base_uri": "https://localhost:8080/"
        },
        "id": "Hx0GLobc5iZF",
        "outputId": "fd72aed3-018c-4d82-dc7c-daba992a10db"
      },
      "outputs": [
        {
          "name": "stdout",
          "output_type": "stream",
          "text": [
            "0\n",
            "0.5\n",
            "if output_1_np equals output_2_np:  False\n"
          ]
        }
      ],
      "source": [
        "import torch\n",
        "import numpy as np\n",
        "\n",
        "x = torch.tensor(2, dtype=torch.int32)\n",
        "y = 1.5\n",
        "output_1 = torch.fmod(x, y)\n",
        "output_1_np = output_1.cpu().detach().numpy()\n",
        "print(output_1_np)\n",
        "\n",
        "x = x.to(torch.float32)\n",
        "output_2 = torch.fmod(x, y)\n",
        "output_2_np = output_2.cpu().detach().numpy()\n",
        "print(output_2_np)\n",
        "\n",
        "print(\"Does output_1_np equal output_2_np? \", np.allclose(output_1_np, output_2_np, rtol=1e-05, atol=1e-02))"
      ]
    }
  ],
  "metadata": {
    "colab": {
      "include_colab_link": true,
      "name": "rule_12_pt_bug_1.ipynb",
      "provenance": []
    },
    "kernelspec": {
      "display_name": "Python 3.8.2 64-bit",
      "language": "python",
      "name": "python3"
    },
    "language_info": {
      "name": "python",
      "version": "3.8.2"
    },
    "vscode": {
      "interpreter": {
        "hash": "916dbcbb3f70747c44a77c7bcd40155683ae19c65e1c03b4aa3499c5328201f1"
      }
    }
  },
  "nbformat": 4,
  "nbformat_minor": 0
}
